{
 "cells": [
  {
   "cell_type": "markdown",
   "id": "b5b4d0d0-e4ba-4838-aee8-4d24c65770e1",
   "metadata": {
    "deletable": false,
    "editable": false
   },
   "source": [
    "# Øving 1\n",
    "\n",
    "Hei og velkommen til første øving i Programmeringsdelen av emnet INGA1002 - Programmering, numerikk og sikkerhet. I denne øvingen vil vi gå gjennom de grunnleggende temaene som kreves for å kunne begynne å bruke Python til å løse vanskelige matematiske problemer. Nedenfor ser du en oversikt over læringsmål for øvingen, samt informasjon om de forskjellige oppgavene og hva som kreves for å få øvingen godkjent.\n",
    "\n",
    "## Læringsmål:\n",
    "* Bli kjent med Jupyter Lab som programmeringsmiljø.\n",
    "* Forstå hvorfor og hvordan vi bruker variabler i programmering, og at variabeltilordning ikke er det samme som matematisk likhet\n",
    "* Kunne bruke vanlige regneoperatorer i Python: addisjon + , subtraksjon – , multiplikasjon * , divisjon / og potens **\n",
    "* Kunne bruke moduler for å få tilgang til spesielle matematiske funksjoner for trigonometri, kvadratrot e.l.\n",
    "* Forstå at kode må være uten feil for å kjøre, og kunne rette enkle syntaksfeil\n",
    "* Kunne bruke vitenskapelig notasjon for spesielt små og spesielt store flyttall\n",
    "* Bli kjent med de tre elementære datatypene: heltall (int), flyttall (float) og tekststrenger (str)\n",
    "\n",
    "<!--* Forstå forskjellen på de tre elementære datatypene: heltall (int), flyttall (float) og tekststrenger (str)\n",
    "* Skjønne hvordan regneoperatorene virker for de ulike datatypene -->\n",
    "\n",
    "## Om oppgavene:\n",
    "Oppgaver markert som \"grunnleggende\" dekker tema som er regnet som kjernepensum, og er nødvendig å beherske for å gå videre med øving 2, 3 & 4. Andre oppgaver vil absolutt styrke forståelsen for faget, og kan ofte være mer spennende å jobbe med, men er i større grad frivillig å arbeide med. Er du ny til programmering, er det anbefalt å begynne med de grunnleggende oppgavene, men om du har programmert litt før, kan det være mer spennende å arbeide med de øvrige oppgavene.\n",
    "\n",
    "Alle oppgavene til sammen kan gi inntil 100 poeng. Kravet for godkjenning er 40 poeng eller mer.\n",
    "\n",
    "Oppgave| Tittel | Tema | Merknad |  Poeng\n",
    "--- |--- | --- | --- | ---\n",
    "1|[Intro til Jupyter](1_Intro_til_jupyter.ipynb)|Grunnleggende om jupyter notebooks|Grunnleggende | 10\n",
    "2|[Variabler](2_Variabler.ipynb)|Bruk av variabler i utregninger |Grunnleggende| 10\n",
    "3|[Kalkulasjoner](3_Kalkulasjoner.ipynb)|Bruk av grunnleggende matematiske operasjoner|Grunnleggende| 10\n",
    "4|[Moduler](4_Moduler.ipynb)|Importering og bruk av moduler, matematiske funksjoner|Grunnleggende| 10\n",
    "5|[Funksjoner](5_Funksjoner.ipynb)|Hvordan skrive egne funksjoner| Grunnleggende | 10\n",
    "6|[Mer om funksjoner](6_Funksjoner_forts.ipynb)|Funksjoner med flere variabler, globale variabler| Grunnleggende | 10 \n",
    "7|[Vitenskapelig notasjon](7_Vitenskapelig_notasjon.ipynb)|Vitenskapelig notasjon for svært store og svært små tall| Nyttig å vite |10\n",
    "8| [Flyttallspresisjon](8_Flyttallspresisjon.ipynb)|Mulige kilder til feil i matematiske utregninger med python| Nyttig å vite, avansert |10\n",
    "9| [Binærtall](9_Binaertall.ipynb)|Begrensninger med binær tallrepresentasjon | Nyttig å vite, avansert |10\n",
    "10| [Karbondatering](10_Karbondatering.ipynb)| Praktisk matematisk oppgave | Avansert, krever matematikk |10"
   ]
  },
  {
   "cell_type": "markdown",
   "id": "b6d8fcec-85f2-46dd-b385-67a72f0a5761",
   "metadata": {
    "deletable": false,
    "editable": false
   },
   "source": [
    "### For å kjøre retting av øvingsoppgaver, kjør kodecellen nedenfor:\n",
    "\n",
    "*NB! Husk å lagre alle oppgavefilene før du kjører retting*"
   ]
  },
  {
   "cell_type": "code",
   "id": "306f1f86-f97e-4523-9aaa-566e9ef1d417",
   "metadata": {
    "deletable": false,
    "editable": true,
    "slideshow": {
     "slide_type": ""
    },
    "tags": [],
    "ExecuteTime": {
     "end_time": "2024-08-22T13:20:07.101612Z",
     "start_time": "2024-08-22T13:19:35.779931Z"
    }
   },
   "source": [
    "# Make sure autofeedback package is installed and imported\n",
    "try:\n",
    "    from autofeedback import autograde_notebooks\n",
    "except ModuleNotFoundError:\n",
    "    print(\"Installing autofeedback. Please Wait...\")\n",
    "    output = !pip install git+https://github.com/kaierih/autofeedback.git\n",
    "    from autofeedback import autograde_notebooks\n",
    "\n",
    "    print(\"Autofeedback installed.\")\n",
    "\n",
    "# Generate feedback from grading tests\n",
    "task_files = [\"1_Intro_til_jupyter.ipynb\",\n",
    "              \"2_Variabler.ipynb\",\n",
    "              \"3_Kalkulasjoner.ipynb\",\n",
    "              \"4_Moduler.ipynb\",\n",
    "              \"5_Funksjoner.ipynb\",\n",
    "              \"6_Funksjoner_forts.ipynb\",\n",
    "              \"7_Vitenskapelig_notasjon.ipynb\",\n",
    "              \"8_Flyttallspresisjon.ipynb\",\n",
    "              \"9_Binaertall.ipynb\",\n",
    "              \"10_Karbondatering.ipynb\"]\n",
    "autograde_notebooks(task_files)"
   ],
   "outputs": [
    {
     "data": {
      "text/plain": [
       "<IPython.core.display.Markdown object>"
      ],
      "text/markdown": "1_Intro_til_jupyter.ipynb graded, score: 10.0/10.0. See [1_Intro_til_jupyter.html](test_results/1_Intro_til_jupyter.html) for detailed report."
     },
     "metadata": {},
     "output_type": "display_data"
    },
    {
     "data": {
      "text/plain": [
       "<IPython.core.display.Markdown object>"
      ],
      "text/markdown": "2_Variabler.ipynb graded, score: 10.0/10.0. See [2_Variabler.html](test_results/2_Variabler.html) for detailed report."
     },
     "metadata": {},
     "output_type": "display_data"
    },
    {
     "data": {
      "text/plain": [
       "<IPython.core.display.Markdown object>"
      ],
      "text/markdown": "3_Kalkulasjoner.ipynb graded, score: 10.0/10.0. See [3_Kalkulasjoner.html](test_results/3_Kalkulasjoner.html) for detailed report."
     },
     "metadata": {},
     "output_type": "display_data"
    },
    {
     "data": {
      "text/plain": [
       "<IPython.core.display.Markdown object>"
      ],
      "text/markdown": "4_Moduler.ipynb graded, score: 6.0/10.0. See [4_Moduler.html](test_results/4_Moduler.html) for detailed report."
     },
     "metadata": {},
     "output_type": "display_data"
    },
    {
     "data": {
      "text/plain": [
       "<IPython.core.display.Markdown object>"
      ],
      "text/markdown": "5_Funksjoner.ipynb graded, score: 10.0/10.0. See [5_Funksjoner.html](test_results/5_Funksjoner.html) for detailed report."
     },
     "metadata": {},
     "output_type": "display_data"
    },
    {
     "data": {
      "text/plain": [
       "<IPython.core.display.Markdown object>"
      ],
      "text/markdown": "6_Funksjoner_forts.ipynb graded, score: 9.32/10.0. See [6_Funksjoner_forts.html](test_results/6_Funksjoner_forts.html) for detailed report."
     },
     "metadata": {},
     "output_type": "display_data"
    },
    {
     "data": {
      "text/plain": [
       "<IPython.core.display.Markdown object>"
      ],
      "text/markdown": "7_Vitenskapelig_notasjon.ipynb graded, score: 10.0/10.0. See [7_Vitenskapelig_notasjon.html](test_results/7_Vitenskapelig_notasjon.html) for detailed report."
     },
     "metadata": {},
     "output_type": "display_data"
    },
    {
     "data": {
      "text/plain": [
       "<IPython.core.display.Markdown object>"
      ],
      "text/markdown": "8_Flyttallspresisjon.ipynb graded, score: 10.0/10.0. See [8_Flyttallspresisjon.html](test_results/8_Flyttallspresisjon.html) for detailed report."
     },
     "metadata": {},
     "output_type": "display_data"
    },
    {
     "ename": "FileNotFoundError",
     "evalue": "[Errno 2] No such file or directory: '9_Binaertall.ipynb'",
     "output_type": "error",
     "traceback": [
      "\u001B[0;31m---------------------------------------------------------------------------\u001B[0m",
      "\u001B[0;31mFileNotFoundError\u001B[0m                         Traceback (most recent call last)",
      "Cell \u001B[0;32mIn[3], line 22\u001B[0m\n\u001B[1;32m     11\u001B[0m \u001B[38;5;66;03m# Generate feedback from grading tests\u001B[39;00m\n\u001B[1;32m     12\u001B[0m task_files \u001B[38;5;241m=\u001B[39m [\u001B[38;5;124m\"\u001B[39m\u001B[38;5;124m1_Intro_til_jupyter.ipynb\u001B[39m\u001B[38;5;124m\"\u001B[39m,\n\u001B[1;32m     13\u001B[0m               \u001B[38;5;124m\"\u001B[39m\u001B[38;5;124m2_Variabler.ipynb\u001B[39m\u001B[38;5;124m\"\u001B[39m,\n\u001B[1;32m     14\u001B[0m               \u001B[38;5;124m\"\u001B[39m\u001B[38;5;124m3_Kalkulasjoner.ipynb\u001B[39m\u001B[38;5;124m\"\u001B[39m,\n\u001B[0;32m   (...)\u001B[0m\n\u001B[1;32m     20\u001B[0m               \u001B[38;5;124m\"\u001B[39m\u001B[38;5;124m9_Binaertall.ipynb\u001B[39m\u001B[38;5;124m\"\u001B[39m,\n\u001B[1;32m     21\u001B[0m               \u001B[38;5;124m\"\u001B[39m\u001B[38;5;124m10_Karbondatering.ipynb\u001B[39m\u001B[38;5;124m\"\u001B[39m]\n\u001B[0;32m---> 22\u001B[0m \u001B[43mautograde_notebooks\u001B[49m\u001B[43m(\u001B[49m\u001B[43mtask_files\u001B[49m\u001B[43m)\u001B[49m\n",
      "File \u001B[0;32m~/repos/pnsobliger24/.venv/lib/python3.10/site-packages/autofeedback/feedback_generator.py:85\u001B[0m, in \u001B[0;36mautograde_notebooks\u001B[0;34m(notebook_list)\u001B[0m\n\u001B[1;32m     82\u001B[0m     os\u001B[38;5;241m.\u001B[39mmakedirs(output_dir)\n\u001B[1;32m     84\u001B[0m \u001B[38;5;28;01mfor\u001B[39;00m notebook \u001B[38;5;129;01min\u001B[39;00m notebook_list:\n\u001B[0;32m---> 85\u001B[0m     notebook_score, notebook_max \u001B[38;5;241m=\u001B[39m \u001B[43mrun_tests\u001B[49m\u001B[43m(\u001B[49m\u001B[43mnotebook\u001B[49m\u001B[43m)\u001B[49m\n\u001B[1;32m     86\u001B[0m     report_file \u001B[38;5;241m=\u001B[39m notebook\u001B[38;5;241m.\u001B[39msplit(\u001B[38;5;124m\"\u001B[39m\u001B[38;5;124m.\u001B[39m\u001B[38;5;124m\"\u001B[39m)[\u001B[38;5;241m0\u001B[39m]\u001B[38;5;241m+\u001B[39m\u001B[38;5;124m\"\u001B[39m\u001B[38;5;124m.html\u001B[39m\u001B[38;5;124m\"\u001B[39m\n\u001B[1;32m     87\u001B[0m     display(Markdown(\n\u001B[1;32m     88\u001B[0m \u001B[38;5;250m        \u001B[39m\u001B[38;5;124;03m\"\"\"%s graded, score: %s/%s. See [%s](test_results/%s) for detailed report.\"\"\"\u001B[39;00m \u001B[38;5;241m%\u001B[39m\n\u001B[1;32m     89\u001B[0m         (notebook,\n\u001B[0;32m   (...)\u001B[0m\n\u001B[1;32m     93\u001B[0m          report_file)\n\u001B[1;32m     94\u001B[0m     ))\n",
      "File \u001B[0;32m~/repos/pnsobliger24/.venv/lib/python3.10/site-packages/autofeedback/feedback_generator.py:32\u001B[0m, in \u001B[0;36mrun_tests\u001B[0;34m(filename, output_dir)\u001B[0m\n\u001B[1;32m     20\u001B[0m \u001B[38;5;250m\u001B[39m\u001B[38;5;124;03m\"\"\" \u001B[39;00m\n\u001B[1;32m     21\u001B[0m \u001B[38;5;124;03mFunction to generate student feedback on code answers present\u001B[39;00m\n\u001B[1;32m     22\u001B[0m \u001B[38;5;124;03min the jupyter notebook \"filename\" based on hidden tests\u001B[39;00m\n\u001B[0;32m   (...)\u001B[0m\n\u001B[1;32m     29\u001B[0m \u001B[38;5;124;03m\"ClearHiddenTests\".\u001B[39;00m\n\u001B[1;32m     30\u001B[0m \u001B[38;5;124;03m\"\"\"\u001B[39;00m\n\u001B[1;32m     31\u001B[0m \u001B[38;5;66;03m# 1. Open notebook file and read to dictionary\u001B[39;00m\n\u001B[0;32m---> 32\u001B[0m \u001B[38;5;28;01mwith\u001B[39;00m \u001B[38;5;28;43mopen\u001B[39;49m\u001B[43m(\u001B[49m\u001B[43mfilename\u001B[49m\u001B[43m,\u001B[49m\u001B[43m \u001B[49m\u001B[38;5;124;43m'\u001B[39;49m\u001B[38;5;124;43mr\u001B[39;49m\u001B[38;5;124;43m'\u001B[39;49m\u001B[43m,\u001B[49m\u001B[43m \u001B[49m\u001B[43mencoding\u001B[49m\u001B[38;5;241;43m=\u001B[39;49m\u001B[38;5;124;43m'\u001B[39;49m\u001B[38;5;124;43mutf-8\u001B[39;49m\u001B[38;5;124;43m'\u001B[39;49m\u001B[43m)\u001B[49m \u001B[38;5;28;01mas\u001B[39;00m f:\n\u001B[1;32m     33\u001B[0m     nb \u001B[38;5;241m=\u001B[39m nbformat\u001B[38;5;241m.\u001B[39mread(f, as_version\u001B[38;5;241m=\u001B[39m\u001B[38;5;241m4\u001B[39m)\n\u001B[1;32m     35\u001B[0m \u001B[38;5;66;03m# 2. Copy hidden tests from metadata to cell body\u001B[39;00m\n",
      "\u001B[0;31mFileNotFoundError\u001B[0m: [Errno 2] No such file or directory: '9_Binaertall.ipynb'"
     ]
    }
   ],
   "execution_count": 3
  },
  {
   "metadata": {},
   "cell_type": "code",
   "outputs": [],
   "execution_count": null,
   "source": "",
   "id": "8b8a4ffbcd3df296"
  }
 ],
 "metadata": {
  "kernelspec": {
   "display_name": "Python 3 (ipykernel)",
   "language": "python",
   "name": "python3"
  },
  "language_info": {
   "codemirror_mode": {
    "name": "ipython",
    "version": 3
   },
   "file_extension": ".py",
   "mimetype": "text/x-python",
   "name": "python",
   "nbconvert_exporter": "python",
   "pygments_lexer": "ipython3",
   "version": "3.11.6"
  },
  "scenes_data": {
   "active_scene": "Default Scene",
   "init_scene": "",
   "scenes": [
    "Default Scene"
   ]
  },
  "toc": {
   "base_numbering": 1
  }
 },
 "nbformat": 4,
 "nbformat_minor": 5
}
