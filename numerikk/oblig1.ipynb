{
 "cells": [
  {
   "metadata": {},
   "cell_type": "markdown",
   "source": "---",
   "id": "b46de8d199d0a659"
  },
  {
   "metadata": {},
   "cell_type": "markdown",
   "source": [
    "Når man snakker om prisvekst, er denne typisk uttrykt gjennom konsumprisindeksen (KPI). Vi går ikke inn på hvordan denne beregnes, men i variabelen KPI har vi lagret den månedlige verdien av KPI fra og med mars 2022 til og med mars 2024, slik at KPI[2][0] er tekststrengen \"mai 2022\" og KPI[2][1] er verdien 121.5\n",
    " av KPI for denne måneden. Dermed vil kommandoen print(f\"I {KPI[2][0]} var KPI {KPI[2][1]}\") skrive ut «I mai 2022 var KPI 121.5».\n",
    "\n",
    "Utsagn som «prisveksten avtar» sier oss noe om endringen i veksten, eller endringen av endringen om du vil, så det er egentlig snakk om den andrederiverte av KPI som funksjon av tid.\n",
    "\n",
    "Den andrederiverte av funksjonen 𝑓(𝑡)\n",
    " kan tilnærmes med følgende differanse\n",
    "𝑓″(𝑡)≈𝑓(𝑡+ℎ)−2𝑓(𝑡)+𝑓(𝑡−ℎ)ℎ2(1)\n",
    "\n",
    "Her tenker vi oss at tidsenheten er måneder, slik at ℎ=1\n",
    "\n",
    "\n",
    "Her skal du få kode din egen økonomikommentator som kommenterer prisveksten fra måned til måned (selv om man i avisene gjerne tar endringen av KPI fra samme måned i fjor til denne måneden, og ser på endringen av denne fra måned til måned).\n",
    "\n",
    "Skriv ferdig funksjonen kommenter(p) som tar inn en liste på samme form som KPI, går gjennom denne og skriver ut \"Prisveksten avtok i april 2022.\" dersom differansen ovenfor er negativ for denne måneden, \"Prisveksten økte i april 2022.\" dersom differansen er positiv, og \"Prisveksten var uendret i april 2022.\" dersom differansen er null.\n",
    "\n",
    "I tillegg, dersom differansen har skiftet fortegn skal den skrive ut en ekstra linje: \"Nå snur det, hurra!\" dersom den skifter fra positiv til negativ, og \"Nå snur det, akk og ve!\" dersom den skifter fra negativ til positiv.\n",
    "For enkelhets skyld skal den altså ikke skrive ut noe om differansen skifter fortegn over flere enn to punkter (måneder) ved at den er null i de mellomliggende punktene.\n",
    "\n",
    "Merk: Siden differansen (1) bruker forrige og neste verdi får vi ikke vurdert intervallene mars 2022 til april 2022 (fordi vi ikke har verdien fra februar 2022), og tilsvarende heller ikke perioden februar 2024 til mars 2024 (siden vi ikke har verdien i april 2024).\n",
    "\n",
    "Viktig: Her er det viktig at du ikke glemmer punktum osv., og skriver ut nøyaktig ut den oppgitte teksten, ellers vil ikke koden godkjennes.\n",
    "\n",
    "Hint 1: De tre første linjene som skrives ut skal være:\n",
    "Prisveksten avtok i april 2022.\n",
    "Prisveksten økte i mai 2022.\n",
    "Nå snur det, akk og ve!\n",
    "Hint 2: Her kan det være til hjelp å se på koden fra forrige oppgave.\n",
    "\n",
    "Hint 3: I coderunner-oppgaver som denne kan det være til hjelp å først skrive koden i f.eks. Jupyter notebook og sjekke at den fungerer som forventet der, ettersom det er mye enklere å feilsøke koden der enn i svarboksen nedenfor."
   ],
   "id": "fd61f023916dc24e"
  },
  {
   "metadata": {
    "ExecuteTime": {
     "end_time": "2024-09-26T15:19:58.620560Z",
     "start_time": "2024-09-26T15:19:58.605652Z"
    }
   },
   "cell_type": "code",
   "source": [
    "KPI = [[\"mars 2022\", 119.8], [\"april 2022\", 121.2], [\"mai 2022\", 121.5], [\"juni 2022\", 122.6], [\"juli 2022\", 124.2],\n",
    "       [\"august 2022\", 123.9], [\"september 2022\", 125.6], [\"oktober 2022\", 126.0],\n",
    "       [\"november 2022\", 125.8], [\"desember 2022\", 125.9], [\"januar 2023\", 126.1], [\"februar 2023\", 126.6],\n",
    "       [\"mars 2023\", 127.6], [\"april 2023\", 129.0], [\"mai 2023\", 129.6], [\"juni 2023\", 130.4],\n",
    "       [\"juli 2023\", 130.9], [\"august 2023\", 129.9], [\"september 2023\", 129.8], [\"oktober 2023\", 131.1],\n",
    "       [\"november 2023\", 131.8], [\"desember 2023\", 131.9], [\"januar 2024\", 132.0],\n",
    "       [\"februar 2024\", 132.3], [\"mars 2024\", 132.6]]\n",
    "\n",
    "\n",
    "def kommenter(p):\n",
    "    prev = p[2][1] - 2 * p[1][1] + p[0][1]\n",
    "    if prev < 0:\n",
    "        print(f\"Prisveksten avtok i {p[1][0]}.\")\n",
    "    elif prev > 0:\n",
    "        print(f\"Prisveksten økte i {p[1][0]}.\")\n",
    "\n",
    "    for i in range(2, len(p) - 1):\n",
    "        cur = p[i + 1][1] - 2 * p[i][1] + p[i - 1][1]\n",
    "        if cur < 0:\n",
    "            print(f\"Prisveksten avtok i {p[i][0]}.\")\n",
    "        elif cur > 0:\n",
    "            print(f\"Prisveksten økte i {p[i][0]}.\")\n",
    "        else:\n",
    "            print(f\"Prisveksten var uendret i {p[i][0]}.\")\n",
    "\n",
    "        if prev * cur < 0:\n",
    "            if (cur < 0 or prev > 0):\n",
    "                print(f\"Nå snur det, hurra!\")\n",
    "            elif (cur > 0 or prev < 0):\n",
    "                print(f\"Nå snur det, akk og ve!\")\n",
    "        prev = cur\n",
    "\n",
    "\n",
    "kommenter(KPI)"
   ],
   "id": "b52326ba5bd23bc2",
   "outputs": [
    {
     "name": "stdout",
     "output_type": "stream",
     "text": [
      "Prisveksten avtok i april 2022.\n",
      "Prisveksten økte i mai 2022.\n",
      "Nå snur det, akk og ve!\n",
      "Prisveksten økte i juni 2022.\n",
      "Prisveksten avtok i juli 2022.\n",
      "Nå snur det, hurra!\n",
      "Prisveksten økte i august 2022.\n",
      "Nå snur det, akk og ve!\n",
      "Prisveksten avtok i september 2022.\n",
      "Nå snur det, hurra!\n",
      "Prisveksten avtok i oktober 2022.\n",
      "Prisveksten økte i november 2022.\n",
      "Nå snur det, akk og ve!\n",
      "Prisveksten økte i desember 2022.\n",
      "Prisveksten økte i januar 2023.\n",
      "Prisveksten økte i februar 2023.\n",
      "Prisveksten økte i mars 2023.\n",
      "Prisveksten avtok i april 2023.\n",
      "Nå snur det, hurra!\n",
      "Prisveksten økte i mai 2023.\n",
      "Nå snur det, akk og ve!\n",
      "Prisveksten avtok i juni 2023.\n",
      "Nå snur det, hurra!\n",
      "Prisveksten avtok i juli 2023.\n",
      "Prisveksten økte i august 2023.\n",
      "Nå snur det, akk og ve!\n",
      "Prisveksten økte i september 2023.\n",
      "Prisveksten avtok i oktober 2023.\n",
      "Nå snur det, hurra!\n",
      "Prisveksten avtok i november 2023.\n",
      "Prisveksten var uendret i desember 2023.\n",
      "Prisveksten økte i januar 2024.\n",
      "Prisveksten avtok i februar 2024.\n",
      "Nå snur det, hurra!\n"
     ]
    }
   ],
   "execution_count": 5
  },
  {
   "metadata": {},
   "cell_type": "markdown",
   "source": "---",
   "id": "3b5e580d3d94bdd"
  },
  {
   "metadata": {},
   "cell_type": "markdown",
   "source": [
    "Fullfør funksjonen nedenfor som tilnærmer det bestemte integralet av den skalare funksjonen 𝑓\n",
    " på intervallet [𝑎,𝑏]\n",
    " med trapesmetoden og 𝑛\n",
    " delintervaller.\n",
    "\n",
    "Deretter skal du bruke denne funksjonen med n = 10 til å tilnærme det bestemte integralet av 𝑓(𝑥)=sin(𝑥2)\n",
    ", som ikke har en elementær antiderivert, over intervallet [0,1]\n",
    " og lagre svaret i variabelen T."
   ],
   "id": "ed1887ec07cfb06"
  },
  {
   "metadata": {
    "ExecuteTime": {
     "end_time": "2024-09-26T15:19:59.386015Z",
     "start_time": "2024-09-26T15:19:59.375931Z"
    }
   },
   "cell_type": "code",
   "source": [
    "import numpy as np\n",
    "\n",
    "\n",
    "def trapes(f, a, b, n):\n",
    "    # tar inn funksjon f, endepunkter a og b, antall intervaller n\n",
    "    xk, h = np.linspace(a, b, n + 1, retstep=True)\n",
    "    #h = (b-a)/n\n",
    "    fk = f(xk)\n",
    "    I = h * (fk[0] + 2 * np.sum(fk[1:-1]) + fk[-1]) / 2\n",
    "    return I\n",
    "\n",
    "\n",
    "def f(x):\n",
    "    return np.sin(x ** 2)\n",
    "\n",
    "\n",
    "T = trapes(f, 0, 1, 10)"
   ],
   "id": "c93791e2cf8dba95",
   "outputs": [],
   "execution_count": 6
  },
  {
   "metadata": {},
   "cell_type": "code",
   "outputs": [],
   "execution_count": null,
   "source": "",
   "id": "5357ce5572d63b33"
  }
 ],
 "metadata": {
  "kernelspec": {
   "display_name": "Python 3",
   "language": "python",
   "name": "python3"
  },
  "language_info": {
   "codemirror_mode": {
    "name": "ipython",
    "version": 2
   },
   "file_extension": ".py",
   "mimetype": "text/x-python",
   "name": "python",
   "nbconvert_exporter": "python",
   "pygments_lexer": "ipython2",
   "version": "2.7.6"
  }
 },
 "nbformat": 4,
 "nbformat_minor": 5
}
