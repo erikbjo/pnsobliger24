{
 "cells": [
  {
   "metadata": {},
   "cell_type": "markdown",
   "source": [
    "Her vil vi tilnærme løsningen av ligningen ``2𝑥=cos(𝑥)`` med fikspunktiterasjon, og velger oss fikspunkt-funksjonen ``𝑔(𝑥)=cos(𝑥)/2``.\n",
    "\n",
    "Her velger vi startgjetningen 𝑥0=0 som gir et avvik ``|2⋅0−cos(0)|=1``.\n",
    "\n",
    "Vi ønsker å iterere frem til avviket for iterat ``𝑥𝑛`` er mindre enn eller lik 10−5, bruk feltet nedenfor til å kode dette.\n",
    "\n",
    "Her er det viktig at du lagrer det siste iteratet som variabelen x og antall iterasjoner som variabelen n.\n",
    "\n",
    "Hint: Her kan du få bruk for det du kan om løkker fra programmering."
   ],
   "id": "ef2bddb9c6d88cb5"
  },
  {
   "metadata": {
    "ExecuteTime": {
     "end_time": "2024-09-26T14:37:01.391552Z",
     "start_time": "2024-09-26T14:37:01.379446Z"
    }
   },
   "cell_type": "code",
   "source": [
    "import numpy as np\n",
    "\n",
    "x = 0\n",
    "err = np.abs(2*x-np.cos(x))\n",
    "n = 0\n",
    "\n",
    "while err > 1e-5 and n < 20:\n",
    "    x = np.cos(x) / 2\n",
    "    err = np.abs(2*x-np.cos(x))\n",
    "    n = n + 1\n",
    "\n",
    "n, x"
   ],
   "id": "4514823c3a6d8b69",
   "outputs": [
    {
     "data": {
      "text/plain": [
       "(8, np.float64(0.4501824148432776))"
      ]
     },
     "execution_count": 11,
     "metadata": {},
     "output_type": "execute_result"
    }
   ],
   "execution_count": 11
  },
  {
   "metadata": {},
   "cell_type": "markdown",
   "source": "---",
   "id": "fda1aec56a88b80e"
  },
  {
   "metadata": {},
   "cell_type": "markdown",
   "source": [
    "Her ser vi igjen på ligningen ``2𝑥=cos(𝑥)``, men denne gangen vil vi bruke Newtons metode.\n",
    "\n",
    "Igjen ønsker vi et avvik som er mindre enn eller lik 10−5, og vi starter igjen med gjetningen ``𝑥0=0``.\n",
    "\n",
    "Du kan kode løsningen nedenfor, og fremdeles er det viktig at siste iterat er lagret som variabelen x og antall iterasjoner som variabelen n."
   ],
   "id": "4941f5c9b2616b37"
  },
  {
   "metadata": {
    "ExecuteTime": {
     "end_time": "2024-09-26T14:37:02.240434Z",
     "start_time": "2024-09-26T14:37:02.228031Z"
    }
   },
   "cell_type": "code",
   "source": [
    "import numpy as np\n",
    "\n",
    "x = 0\n",
    "err = np.abs(2*x-np.cos(x))\n",
    "n = 0\n",
    "\n",
    "while err > 1e-5 and n < 10:\n",
    "    x = x - (2*x - np.cos(x))/(2+np.sin(x))\n",
    "    err = np.abs(2*x-np.cos(x))\n",
    "    n = n + 1\n",
    "\n",
    "n, x"
   ],
   "id": "13ff9af90d38f3d",
   "outputs": [
    {
     "data": {
      "text/plain": [
       "(3, np.float64(0.45018364757777474))"
      ]
     },
     "execution_count": 12,
     "metadata": {},
     "output_type": "execute_result"
    }
   ],
   "execution_count": 12
  },
  {
   "metadata": {},
   "cell_type": "markdown",
   "source": "---",
   "id": "1bbbd5b621a86f8"
  },
  {
   "metadata": {},
   "cell_type": "markdown",
   "source": [
    "Et generelt tredjegradspolynom kan skrives på formen\n",
    "\n",
    "``𝑝(𝑥)=𝑐0+𝑐1𝑥+𝑐2𝑥2+𝑐3𝑥3,``\n",
    "\n",
    "for koeffisienter ``𝑐𝑖, 𝑖=0,1,2,3``.\n",
    "\n",
    "\n",
    "\n",
    "I ``𝑥=1`` tar dette polynomet verdien 𝑝(1), slik at grafen til polynomet går gjennom punktet ``(𝑥,𝑦)=(1,𝑝(1))``.\n",
    "\n",
    "Verdien ``𝑝(1)`` er gitt av\n",
    "\n",
    "``𝑝(1)=𝑐0+𝑐1+𝑐2+𝑐3``,\n",
    "\n",
    "som kan skrives som vektorproduktet\n",
    "\n",
    "``𝑝(1)=[1111]⎡⎣⎢⎢⎢⎢𝑐0𝑐1𝑐2𝑐3⎤⎦⎥⎥⎥⎥=[1111]𝒄``.\n",
    "\n",
    "Nå vil vi finne koeffisientene ``𝑐𝑖`` som gjør at polynomet går gjennom de fire punktene\n",
    "\n",
    "``(−1,−2), (0,1), (1,−1) og (2,4)``.\n",
    "\n",
    "Hvert punkt gir oss en ligning, og disse fire ligningene kan skrives som et lineært system\n",
    "\n",
    "``𝐴𝒄=𝒑``\n",
    "\n",
    "for en 4×4-matrise ``𝐴`` og en vektor ``𝒑`` av polynomverdier.\n",
    "\n",
    "Nedenfor skal du sette opp matrisen A og vektoren p, hvor vektoren skal være på formen\n",
    "\n",
    "``𝒑=⎡⎣⎢⎢⎢⎢𝑝(−1)𝑝(0)𝑝(1)𝑝(2)⎤⎦⎥⎥⎥⎥``,\n",
    "\n",
    "og bruk deretter np.linalg.solve til å løse dette systemet og lagre svaret som variabelen c."
   ],
   "id": "8c3b9ccba1acf2f5"
  },
  {
   "metadata": {
    "ExecuteTime": {
     "end_time": "2024-09-26T14:31:13.193288Z",
     "start_time": "2024-09-26T14:31:13.177246Z"
    }
   },
   "cell_type": "code",
   "source": [
    "import numpy as np\n",
    "\n",
    "A = np.array([[1,-1,1,-1],[1,0,0,0],[1,1,1,1],[1,2,4,8]])\n",
    "p = np.array([-2,1,-1,4])\n",
    "\n",
    "c = np.linalg.solve(A,p)\n",
    "c"
   ],
   "id": "a5c7354b792035bb",
   "outputs": [
    {
     "data": {
      "text/plain": [
       "array([ 1. , -1.5, -2.5,  2. ])"
      ]
     },
     "execution_count": 4,
     "metadata": {},
     "output_type": "execute_result"
    }
   ],
   "execution_count": 4
  },
  {
   "metadata": {},
   "cell_type": "markdown",
   "source": "---",
   "id": "45de44716d3f249b"
  },
  {
   "metadata": {},
   "cell_type": "markdown",
   "source": [
    "For skalare ligninger \\( f(x) = 0 \\) med en skalar ukjent \\( x \\) har vi sett at fiks punktmetoden tar utgangspunkt i å skrive om ligningen på formen \\( x = g(x) \\).\n",
    "\n",
    "Deretter definerer vi en fiks punkt-iterasjon gjennom \\( x_{n+1} = g(x_n) \\).\n",
    "\n",
    "Vi kan forsøke å bruke samme idé på det lineære systemet \\( Ax = b \\), hvor den ukjente nå er en vektor \\( x \\).\n",
    "\n",
    "Dette kan vi gjøre ved å skrive \\( A \\) som \\( A = D + (A - D) \\), hvor \\( D \\) er matrisen med samme diagonalelementer som \\( A \\) og resten av elementene er null. Da får vi\n",
    "\n",
    "\\[\n",
    "b = Ax = Dx + (A - D)x\n",
    "\\]\n",
    "\n",
    "Med dette uttrykket kan vi lage oss en fiks punktiterasjon\n",
    "\n",
    "\\[\n",
    "Dx_{n+1} = b - (A - D)x_n\n",
    "\\]\n",
    "\n",
    "Så lenge diagonalelementene i \\( D \\) ikke er null kan vi løse dette systemet for \\( x_{n+1} \\).\n",
    "\n",
    "Gitt \n",
    "\n",
    "\\[\n",
    "A = \\begin{bmatrix} 3 & 1 & 2 \\\\ 4 & 6 & 0 \\\\ 5 & 2 & 9 \\end{bmatrix}, \\quad b = \\begin{bmatrix} 1 \\\\ 2 \\\\ 3 \\end{bmatrix}\n",
    "\\]\n",
    "\n",
    "fullfør koden under slik at funksjonen \\( g(x) \\) tar inn en 3-vektor (et array) \\( x \\) og returnerer løsningen av ligningen (1) for \\( A \\) og \\( b \\) ovenfor.\n",
    "\n",
    "**Hint**: Her kan funksjonen `np.linalg.solve` være til hjelp.\n",
    "\n",
    "Dette er såkalt Jacobi-iterasjon, en fiks punktmetode for å løse lineære systemer.\n"
   ],
   "id": "12923da241eced4e"
  },
  {
   "metadata": {
    "ExecuteTime": {
     "end_time": "2024-09-26T14:32:55.158868Z",
     "start_time": "2024-09-26T14:32:55.147427Z"
    }
   },
   "cell_type": "code",
   "source": [
    "import numpy as np\n",
    "\n",
    "A = np.array([[3,1,2],[4,6,0],[5,2,9]])\n",
    "b = np.array([1,2,3])\n",
    "\n",
    "D = np.diag(np.diag(A))\n",
    "\n",
    "def g(x):\n",
    "    return np.linalg.solve(D,b-(A-D)@x)"
   ],
   "id": "dbe6af910f4bebdb",
   "outputs": [],
   "execution_count": 5
  },
  {
   "metadata": {},
   "cell_type": "code",
   "outputs": [],
   "execution_count": null,
   "source": "",
   "id": "30ba98d10f49afc6"
  }
 ],
 "metadata": {
  "kernelspec": {
   "display_name": "Python 3",
   "language": "python",
   "name": "python3"
  },
  "language_info": {
   "codemirror_mode": {
    "name": "ipython",
    "version": 2
   },
   "file_extension": ".py",
   "mimetype": "text/x-python",
   "name": "python",
   "nbconvert_exporter": "python",
   "pygments_lexer": "ipython2",
   "version": "2.7.6"
  }
 },
 "nbformat": 4,
 "nbformat_minor": 5
}
