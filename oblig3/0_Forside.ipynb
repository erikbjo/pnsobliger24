{
 "cells": [
  {
   "cell_type": "markdown",
   "id": "4963af65-8d0f-4e8c-9f12-fe6d403a10eb",
   "metadata": {
    "deletable": false,
    "editable": true,
    "slideshow": {
     "slide_type": ""
    },
    "tags": []
   },
   "source": [
    "# Øving 3\n",
    "\n",
    "Hei og velkommen til tredje øving i Programmeringsdelen av emnet INGA1002 - Programmering, numerikk og sikkerhet. Hovedfokuset for denne øvingen er å lære seg bruk av `if`-setnigner og betingelser, samt bli kjent med løkker som et verktøy for å iterere seg gjennom en sekvens med verdier. \n",
    "\n",
    "\n",
    "## Læringsmål\n",
    "\n",
    "- If-setninger, hvorfor og hvordan\n",
    "- Betingelserr og logiske uttrykk\n",
    "- Iterering gjennom sekvenser med bruk av for-løkke\n",
    "- For-løkker som verktøy for kumulative beregninger"
   ]
  },
  {
   "cell_type": "markdown",
   "id": "8a604e15-ee48-4bac-a8dc-fd92400db50b",
   "metadata": {
    "deletable": false
   },
   "source": [
    "## Om oppgavene\n",
    "\n",
    "Oppgaver markert som \"grunnleggende\" dekker tema som er regnet som kjernepensum, og er nødvendig å beherske for å gå videre med øving 3 & 4. Andre oppgaver vil absolutt styrke forståelsen for faget, og kan ofte være mer spennende å jobbe med, men er i større grad frivillig å arbeide med. Er du ny til programmering, er det anbefalt å begynne med de grunnleggende oppgavene, men om du har programmert litt før, kan det være mer spennende å arbeide med de øvrige oppgavene.\n",
    "\n",
    "Alle oppgavene til sammen kan gi inntil 100 poeng. Kravet for godkjenning er 40 poeng eller mer.\n"
   ]
  },
  {
   "cell_type": "markdown",
   "id": "991a8971-84c4-40ae-9821-c6166bcfb446",
   "metadata": {
    "deletable": false,
    "editable": true,
    "slideshow": {
     "slide_type": ""
    },
    "tags": []
   },
   "source": [
    "Oppgave | Tema | Merknad | Poeng\n",
    "--- | --- | --- | ---\n",
    "[Ulike typer if-setninger](1_Ulike_typer_if-setninger.ipynb) | If, else og elif | Grunnleggende |10\n",
    "[Logiske operatorer og logiske uttrykk](2_Logiske_operatorer_og_logiske_uttrykk.ipynb) | Mer om betingelser samt bruk av **and**, **or** og **not**| Grunnleggende |10\n",
    "[Andregradsligning](3_Andregradsligning.ipynb) | Matematisk problem med betingede utfall | Grunnleggende, litt krevende |10\n",
    "[Lister og løkker](4_Lister_og_lokker.ipynb) | For-løkker, iterering over en sekvens | Grunnleggende |10\n",
    "[Primtall](5_Primtall.ipynb) | For-løkker i matematiske problem | Grunnleggende, litt krevende |10\n",
    "[Mer om løkker](6_Mer_om_lokker.ipynb)|Løkker med akkumulering (oppsamlingsløkker)| Grunnleggende |10\n",
    "[Nedbørsdata](7_Nedborsdata.ipynb) | Bruk av for-løkker i dataanalyse | Kjekt å kunne | 10 \n",
    "[Utregning av Fakultet](8_Fakultet.ipynb)|Oppsamlingsløkker, matematiske notasjoner | Kjekt å kunne, litt krevende | 10\n",
    "[Hastighetsberegning](9_Hastighetsberegning.ipynb)|Numerisk derivasjon av datasett| Kjekt å kunne, krevende | 10\n",
    "[Plotting med løkker](10_Plotting_av_flere_kurver.ipynb) | Plotting av funksjoner med flere parametre| Kjekt å kunne, krevende | 10\n"
   ]
  },
  {
   "cell_type": "markdown",
   "id": "07a3f867-7e6e-47e5-8ecc-7b512ad4239b",
   "metadata": {
    "deletable": false
   },
   "source": [
    "### For å generere tilbakemelding på oppgavesvar, kjør kodecellen nedenfor:\n",
    "\n",
    "*NB! Husk å lagre alle oppgavefilene før du kjører retting*"
   ]
  },
  {
   "cell_type": "code",
   "id": "449c210f-e329-4347-af56-b3675218b0e6",
   "metadata": {
    "deletable": false,
    "editable": true,
    "slideshow": {
     "slide_type": ""
    },
    "tags": [],
    "ExecuteTime": {
     "end_time": "2024-09-10T11:15:53.566600Z",
     "start_time": "2024-09-10T11:15:18.400476Z"
    }
   },
   "source": [
    "# Make sure autofeedback package is installed\n",
    "try:\n",
    "    from autofeedback import autograde_notebooks\n",
    "except ModuleNotFoundError:\n",
    "    print(\"Installing autofeedback. Please Wait...\")\n",
    "    output = !pip install git+https://github.com/kaierih/autofeedback.git\n",
    "    from autofeedback import autograde_notebooks\n",
    "    print(\"Autofeedback installed.\")\n",
    "\n",
    "# Generate feedback from grading tests\n",
    "task_files = [\"1_Ulike_typer_if-setninger.ipynb\",\n",
    "              \"2_Logiske_operatorer_og_logiske_uttrykk.ipynb\",\n",
    "              \"3_Andregradsligning.ipynb\",\n",
    "              \"4_Lister_og_lokker.ipynb\",\n",
    "              \"5_Primtall.ipynb\", \n",
    "              \"6_Mer_om_lokker.ipynb\",\n",
    "              \"7_Nedborsdata.ipynb\",\n",
    "              \"8_Fakultet.ipynb\",\n",
    "              \"9_Hastighetsberegning.ipynb\",\n",
    "              \"10_Plotting_av_flere_kurver.ipynb\"]\n",
    "autograde_notebooks(task_files)"
   ],
   "outputs": [
    {
     "data": {
      "text/plain": [
       "<IPython.core.display.Markdown object>"
      ],
      "text/markdown": "1_Ulike_typer_if-setninger.ipynb graded, score: 10.0/10.0. See [1_Ulike_typer_if-setninger.html](test_results/1_Ulike_typer_if-setninger.html) for detailed report."
     },
     "metadata": {},
     "output_type": "display_data"
    },
    {
     "data": {
      "text/plain": [
       "<IPython.core.display.Markdown object>"
      ],
      "text/markdown": "2_Logiske_operatorer_og_logiske_uttrykk.ipynb graded, score: 10.0/10.0. See [2_Logiske_operatorer_og_logiske_uttrykk.html](test_results/2_Logiske_operatorer_og_logiske_uttrykk.html) for detailed report."
     },
     "metadata": {},
     "output_type": "display_data"
    },
    {
     "data": {
      "text/plain": [
       "<IPython.core.display.Markdown object>"
      ],
      "text/markdown": "3_Andregradsligning.ipynb graded, score: 10.0/10.0. See [3_Andregradsligning.html](test_results/3_Andregradsligning.html) for detailed report."
     },
     "metadata": {},
     "output_type": "display_data"
    },
    {
     "data": {
      "text/plain": [
       "<IPython.core.display.Markdown object>"
      ],
      "text/markdown": "4_Lister_og_lokker.ipynb graded, score: 10.0/10.0. See [4_Lister_og_lokker.html](test_results/4_Lister_og_lokker.html) for detailed report."
     },
     "metadata": {},
     "output_type": "display_data"
    },
    {
     "data": {
      "text/plain": [
       "<IPython.core.display.Markdown object>"
      ],
      "text/markdown": "5_Primtall.ipynb graded, score: 10.0/10.0. See [5_Primtall.html](test_results/5_Primtall.html) for detailed report."
     },
     "metadata": {},
     "output_type": "display_data"
    },
    {
     "data": {
      "text/plain": [
       "<IPython.core.display.Markdown object>"
      ],
      "text/markdown": "6_Mer_om_lokker.ipynb graded, score: 10.0/10.0. See [6_Mer_om_lokker.html](test_results/6_Mer_om_lokker.html) for detailed report."
     },
     "metadata": {},
     "output_type": "display_data"
    },
    {
     "data": {
      "text/plain": [
       "<IPython.core.display.Markdown object>"
      ],
      "text/markdown": "7_Nedborsdata.ipynb graded, score: 10.0/10.0. See [7_Nedborsdata.html](test_results/7_Nedborsdata.html) for detailed report."
     },
     "metadata": {},
     "output_type": "display_data"
    },
    {
     "data": {
      "text/plain": [
       "<IPython.core.display.Markdown object>"
      ],
      "text/markdown": "8_Fakultet.ipynb graded, score: 10.0/10.0. See [8_Fakultet.html](test_results/8_Fakultet.html) for detailed report."
     },
     "metadata": {},
     "output_type": "display_data"
    },
    {
     "data": {
      "text/plain": [
       "<IPython.core.display.Markdown object>"
      ],
      "text/markdown": "9_Hastighetsberegning.ipynb graded, score: 10.0/10.0. See [9_Hastighetsberegning.html](test_results/9_Hastighetsberegning.html) for detailed report."
     },
     "metadata": {},
     "output_type": "display_data"
    },
    {
     "data": {
      "text/plain": [
       "<IPython.core.display.Markdown object>"
      ],
      "text/markdown": "10_Plotting_av_flere_kurver.ipynb graded, score: 10.0/10.0. See [10_Plotting_av_flere_kurver.html](test_results/10_Plotting_av_flere_kurver.html) for detailed report."
     },
     "metadata": {},
     "output_type": "display_data"
    },
    {
     "data": {
      "text/plain": [
       "<IPython.core.display.Markdown object>"
      ],
      "text/markdown": "Finished grading all tasks! Final score: 100.0/100.0."
     },
     "metadata": {},
     "output_type": "display_data"
    }
   ],
   "execution_count": 5
  },
  {
   "metadata": {},
   "cell_type": "code",
   "outputs": [],
   "execution_count": null,
   "source": "",
   "id": "918923397e96680a"
  }
 ],
 "metadata": {
  "kernelspec": {
   "display_name": "Python 3 (ipykernel)",
   "language": "python",
   "name": "python3"
  },
  "language_info": {
   "codemirror_mode": {
    "name": "ipython",
    "version": 3
   },
   "file_extension": ".py",
   "mimetype": "text/x-python",
   "name": "python",
   "nbconvert_exporter": "python",
   "pygments_lexer": "ipython3",
   "version": "3.11.6"
  },
  "toc": {
   "base_numbering": 1
  }
 },
 "nbformat": 4,
 "nbformat_minor": 5
}
