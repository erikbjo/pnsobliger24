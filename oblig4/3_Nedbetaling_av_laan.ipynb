{
 "cells": [
  {
   "cell_type": "markdown",
   "metadata": {
    "deletable": false,
    "editable": false
   },
   "source": [
    "\n",
    "<nav class=\"navbar navbar-default\">\n",
    "  <div class=\"container-fluid\">\n",
    "    <div class=\"navbar-header\" style=\"float: left\">\n",
    "        <a class=\"navbar-brand\" href=\"0_Forside.ipynb\" target=\"_self\"> <h2> &uarr; Tilbake til forsiden</h2></a>\n",
    "    </div>\n",
    "  </div>\n",
    "</nav>"
   ]
  },
  {
   "cell_type": "markdown",
   "metadata": {
    "deletable": false,
    "editable": true,
    "slideshow": {
     "slide_type": ""
    },
    "tags": []
   },
   "source": [
    "# Nedbetaling av lån\n",
    "\n",
    "**Læringsmål:**\n",
    "\n",
    "* While-løkker med oppsamling\n",
    "\n",
    "**Introduksjon:**\n",
    "\n",
    "Annuitetslån er lån der man betaler et like stort beløp i det antall terminer som lånet løper (med mulig unntak av aller siste termin). Ved slike lån går mye av dette terminbeløpet til renter i starten, etter hvert blir en stadig større andel av terminbeløpet avdrag (tilbakebetaling). I tabellen under har vi vist hvordan et annuitetslån på $1\\ 000 \\text{ kr}$ nedbetales over $3$ terminer med en terminrente på $5 \\text{ \\%}$ og terminbeløp på $400 \\text{ kr}$. Legg merke til at det siste terminbeløpet er redusert, da avdraget ikke skal overskride restgjelden.\n",
    "\n",
    "| Termin | Terminbeløp | Rente | Avdrag | Restgjeld |\n",
    "| --: | --: | --: | --: | --: |\n",
    "| 0 | | | | 1000.0 |\n",
    "| 1 | 400.0 | 50.0 | 350.0 | 650.0 |\n",
    "| 2 | 400.0 | 32.5 | 367.5 | 282.5 |\n",
    "| 3 | 296.6 | 14.1 | 282.5 | 0.0 |\n",
    "\n",
    "Det som betales i rente i en termin regnes ut med formel 1:\n",
    "$$\\text{rente} = \\text{restgjeld} \\cdot \\frac{\\text{terminrente i prosent}}{100} \\tag{1}$$\n",
    "Avdragsbeløpet for hver termin vil da være gitt ved formelen : $\\text{avdrag} = \\text{terminbeløp} - \\text{rente}$."
   ]
  },
  {
   "cell_type": "markdown",
   "metadata": {
    "deletable": false
   },
   "source": [
    "## a) \n",
    "Fullfør funksjonen `registrer_innbetaling` nedenfor. Funksjonen skal ta inn lånebeløp (gjeld), rentesats i prosent og terminbeløp som parametre, og returnere restgjelden som gjenstår etter innbetalingen."
   ]
  },
  {
   "cell_type": "code",
   "metadata": {
    "deletable": false,
    "execution": {
     "iopub.execute_input": "2024-09-12T11:18:47.398527Z",
     "iopub.status.busy": "2024-09-12T11:18:47.397415Z",
     "iopub.status.idle": "2024-09-12T11:18:47.419497Z",
     "shell.execute_reply": "2024-09-12T11:18:47.417164Z"
    },
    "nbgrader": {
     "cell_type": "code",
     "checksum": "a903211cb3d0c25ae0f8dc7cbf69d91a",
     "grade": false,
     "grade_id": "cell-916064d0f8d9d3ef",
     "locked": false,
     "schema_version": 3,
     "solution": true,
     "task": false
    },
    "ExecuteTime": {
     "end_time": "2024-09-19T13:20:01.606355Z",
     "start_time": "2024-09-19T13:20:01.595223Z"
    }
   },
   "source": [
    "def registrer_innbetaling(gjeld, rentesats, terminbelop):\n",
    "    # Beregn rente\n",
    "    rente = gjeld * (rentesats / 100)\n",
    "    \n",
    "    # Beregn avdrag\n",
    "    avdrag = terminbelop - rente\n",
    "    \n",
    "    # Oppdater restgjeld\n",
    "    ny_gjeld = gjeld - avdrag\n",
    "    \n",
    "    return ny_gjeld\n",
    "\n",
    "# Skriv funksjonskall for å sjekke funksjonen nedenfor:\n",
    "registrer_innbetaling(1000, 5, 400)"
   ],
   "outputs": [
    {
     "data": {
      "text/plain": [
       "650.0"
      ]
     },
     "execution_count": 2,
     "metadata": {},
     "output_type": "execute_result"
    }
   ],
   "execution_count": 2
  },
  {
   "cell_type": "markdown",
   "metadata": {
    "deletable": false
   },
   "source": [
    "Tips: du kan bruke funksjonskall med parametrene fra eksempelet ovenfor til å sjekke om funksjonen din fungerer slik den skal:\n",
    "```Python\n",
    "print(f\"{registrer_innbetaling(1000, 5, 400) = }\")\n",
    "print(f\"{registrer_innbetaling(650, 5, 400) = }\")\n",
    "```\n",
    "Funksjonskallene skal gi følgende utskrift:<br>\n",
    "`registrer_innbetaling(1000, 5, 400) = 650.0`<br>\n",
    "`registrer_innbetaling(650, 5, 400) = 282.5`"
   ]
  },
  {
   "cell_type": "code",
   "execution_count": null,
   "metadata": {
    "autofeedback": {
     "test_code": "ZnJvbSBhdXRvZmVlZGJhY2sgaW1wb3J0IEZ1bmN0aW9uVGVzdHMKZnJvbSByYW5kb20gaW1wb3J0IHNhbXBsZQoKZGVmIHJlZ2lzdHJlcl9pbm5iZXRhbGluZ19zb2x1dGlvbihnamVsZCwgcmVudGVzYXRzLCB0ZXJtaW5iZWxvcCk6CiAgICByZW50ZSA9IGdqZWxkICogcmVudGVzYXRzIC8gMTAwCiAgICB0ZXJtaW5iZWxvcCA9IG1pbih0ZXJtaW5iZWxvcCwgZ2plbGQgKyByZW50ZSkKICAgIHJlc3RnamVsZCA9IGdqZWxkICsgcmVudGUgLSB0ZXJtaW5iZWxvcAogICAgcmV0dXJuIHJlc3RnamVsZAoKZ3JhZGluZ19yZXN1bHRzID0gRnVuY3Rpb25UZXN0cyhyZWdpc3RyZXJfaW5uYmV0YWxpbmdfc29sdXRpb24pCnRyeToKICAgIGdyYWRpbmdfcmVzdWx0cy5hZGRfdGVzdF9mdW5jKHJlZ2lzdHJlcl9pbm5iZXRhbGluZykKZXhjZXB0IEV4Y2VwdGlvbiBhcyBlOgogICAgZ3JhZGluZ19yZXN1bHRzLmxvZy5hcHBlbmQoIkNvdWxkIG5vdCBydW4gdGVzdHMsICIrZS5hcmdzWzBdKQplbHNlOgogICAgTiA9IDMKICAgIGdqZWxkX3ZhbHMgPSBzYW1wbGUobGlzdChyYW5nZSgxMF8wMDAsIDIwXzAwMCwgMV8wMDApKSwgTikKICAgIHJlbnRlX3ZhbHMgPSBzYW1wbGUoW3gvNCBmb3IgeCBpbiByYW5nZSgxLCAyMCldLCBOKQogICAgdGVybWluYmVsb3BfdmFscyA9IHNhbXBsZShsaXN0KHJhbmdlKDEwMDAsIDIwMDAsIDEwMCkpLCBOKQoKICAgICMgVGVzdCBub24tcHJpbWVzCiAgICBmb3IgZ2plbGQsIHJlbnRlLCB0ZXJtaW5iZWxvcCBpbiB6aXAoZ2plbGRfdmFscywgcmVudGVfdmFscywgdGVybWluYmVsb3BfdmFscyk6CiAgICAgICAgZ3JhZGluZ19yZXN1bHRzLnRlc3RfcmV0dXJuX3ZhbHVlKGdqZWxkLCByZW50ZSwgdGVybWluYmVsb3ApCgpyb3VuZChncmFkaW5nX3Jlc3VsdHMuZ2V0X3Jlc3VsdHMoKSozLCAzKQ=="
    },
    "deletable": false,
    "editable": false,
    "execution": {
     "iopub.execute_input": "2024-09-12T11:18:47.430277Z",
     "iopub.status.busy": "2024-09-12T11:18:47.429365Z",
     "iopub.status.idle": "2024-09-12T11:18:49.324717Z",
     "shell.execute_reply": "2024-09-12T11:18:49.322480Z"
    },
    "nbgrader": {
     "cell_type": "code",
     "checksum": "fe47b6c22893f71a62be037a40afee61",
     "grade": true,
     "grade_id": "cell-d121d186fc809a35",
     "locked": true,
     "points": 3,
     "schema_version": 3,
     "solution": false,
     "task": false
    },
    "slideshow": {
     "slide_type": ""
    },
    "tags": []
   },
   "outputs": [],
   "source": [
    "# Denne cellen brukes under retting. La stå!"
   ]
  },
  {
   "cell_type": "markdown",
   "metadata": {
    "deletable": false
   },
   "source": [
    "## b) \n",
    "Bruk en `while`-løkke til å fullføre funksjonen `finn_nedbetalingstid`, som bruker gjentatte kall til `registrer_innbetaling` frem til hele lånet er nedbetalt. Funksjonen skal returnere nedbetalingstiden gitt i antall terminer (hvor mange ganger må terminbeløpet betales inn for at lånet skal være nedbetalt).\n",
    "\n"
   ]
  },
  {
   "cell_type": "code",
   "metadata": {
    "deletable": false,
    "execution": {
     "iopub.execute_input": "2024-09-12T11:18:49.333342Z",
     "iopub.status.busy": "2024-09-12T11:18:49.332024Z",
     "iopub.status.idle": "2024-09-12T11:18:49.348340Z",
     "shell.execute_reply": "2024-09-12T11:18:49.345408Z"
    },
    "nbgrader": {
     "cell_type": "code",
     "checksum": "7c7034f469a46ca241d65d046f31c181",
     "grade": false,
     "grade_id": "cell-3c6ef7bba03d7350",
     "locked": false,
     "schema_version": 3,
     "solution": true,
     "task": false
    },
    "ExecuteTime": {
     "end_time": "2024-09-19T14:49:41.121367Z",
     "start_time": "2024-09-19T14:49:41.108619Z"
    }
   },
   "source": [
    "def finn_nedbetalingstid(gjeld, rentesats, terminbelop):\n",
    "    antall_terminer = 0\n",
    "    while gjeld > 0:\n",
    "        rente = gjeld * rentesats/100\n",
    "        terminbelop = min(terminbelop, gjeld+rente)\n",
    "        gjeld += rente - terminbelop\n",
    "        antall_terminer += 1\n",
    "    return antall_terminer\n",
    "\n",
    "# Skriv funksjonskall for å sjekke funksjonen nedenfor:\n",
    "print(f\"{finn_nedbetalingstid(1000, 5, 400) = }\")"
   ],
   "outputs": [
    {
     "name": "stdout",
     "output_type": "stream",
     "text": [
      "finn_nedbetalingstid(1000, 5, 400) = 3\n"
     ]
    }
   ],
   "execution_count": 1
  },
  {
   "cell_type": "markdown",
   "metadata": {
    "deletable": false
   },
   "source": [
    "Tips: du kan bruke et funksjonskall med parametrene fra eksempelet i starten av oppgaven til å sjekke om funksjonen din fungerer slik den skal:\n",
    "```Python\n",
    "print(f\"{finn_nedbetalingstid(1000, 5, 400) = }\")\n",
    "```\n",
    "Skal gi følgende utskrift:<br>\n",
    "`finn_nedbetalingstid(1000, 5, 400) = 3`"
   ]
  },
  {
   "cell_type": "code",
   "execution_count": null,
   "metadata": {
    "autofeedback": {
     "test_code": "ZnJvbSBhdXRvZmVlZGJhY2sgaW1wb3J0IEZ1bmN0aW9uVGVzdHMKZnJvbSByYW5kb20gaW1wb3J0IHNhbXBsZQoKZGVmIGZpbm5fbmVkYmV0YWxpbmdzdGlkX3NvbHV0aW9uKGdqZWxkLCByZW50ZXNhdHMsIHRlcm1pbmJlbG9wKToKICAgIGFudGFsbF90ZXJtaW5lciA9IDAKICAgIHdoaWxlIGdqZWxkID4gMDoKICAgICAgICByZW50ZSA9IGdqZWxkICogcmVudGVzYXRzLzEwMAogICAgICAgIHRlcm1pbmJlbG9wID0gbWluKHRlcm1pbmJlbG9wLCBnamVsZCtyZW50ZSkKICAgICAgICBnamVsZCArPSByZW50ZSAtIHRlcm1pbmJlbG9wCiAgICAgICAgYW50YWxsX3Rlcm1pbmVyICs9IDEKICAgIHJldHVybiBhbnRhbGxfdGVybWluZXIKCmdyYWRpbmdfcmVzdWx0cyA9IEZ1bmN0aW9uVGVzdHMoZmlubl9uZWRiZXRhbGluZ3N0aWRfc29sdXRpb24pCnRyeToKICAgIGdyYWRpbmdfcmVzdWx0cy5hZGRfdGVzdF9mdW5jKGZpbm5fbmVkYmV0YWxpbmdzdGlkKQpleGNlcHQgRXhjZXB0aW9uIGFzIGU6CiAgICBncmFkaW5nX3Jlc3VsdHMubG9nLmFwcGVuZCgiQ291bGQgbm90IHJ1biB0ZXN0cywgIitlLmFyZ3NbMF0pCmVsc2U6CiAgICBOID0gMwogICAgZ2plbGRfdmFscyA9IHNhbXBsZShsaXN0KHJhbmdlKDEwXzAwMCwgMjBfMDAwLCAxXzAwMCkpLCBOKQogICAgcmVudGVfdmFscyA9IHNhbXBsZShbeC80IGZvciB4IGluIHJhbmdlKDEsIDIwKV0sIE4pCiAgICB0ZXJtaW5iZWxvcF92YWxzID0gc2FtcGxlKGxpc3QocmFuZ2UoMTAwMCwgMjAwMCwgMTAwKSksIE4pCgogICAgIyBUZXN0IG5vbi1wcmltZXMKICAgIGZvciBnamVsZCwgcmVudGUsIHRlcm1pbmJlbG9wIGluIHppcChnamVsZF92YWxzLCByZW50ZV92YWxzLCB0ZXJtaW5iZWxvcF92YWxzKToKICAgICAgICBncmFkaW5nX3Jlc3VsdHMudGVzdF9yZXR1cm5fdmFsdWUoZ2plbGQsIHJlbnRlLCB0ZXJtaW5iZWxvcCkKCnJvdW5kKGdyYWRpbmdfcmVzdWx0cy5nZXRfcmVzdWx0cygpKjQsIDMp"
    },
    "deletable": false,
    "editable": false,
    "execution": {
     "iopub.execute_input": "2024-09-12T11:18:49.358932Z",
     "iopub.status.busy": "2024-09-12T11:18:49.358090Z",
     "iopub.status.idle": "2024-09-12T11:18:49.390073Z",
     "shell.execute_reply": "2024-09-12T11:18:49.388854Z"
    },
    "nbgrader": {
     "cell_type": "code",
     "checksum": "414b1f8005e2a7b46a6af46abbed8a3e",
     "grade": true,
     "grade_id": "cell-4aeafbc8f0fc34ca",
     "locked": true,
     "points": 4,
     "schema_version": 3,
     "solution": false,
     "task": false
    }
   },
   "outputs": [],
   "source": [
    "# Denne cellen brukes under retting. La stå!"
   ]
  },
  {
   "cell_type": "markdown",
   "metadata": {
    "deletable": false
   },
   "source": [
    "## c)\n",
    "Fullfør funksjonen `finn_samlet_rente` som returnerer det totale rentebeløpet som er innbetalt over hele låneperioden."
   ]
  },
  {
   "cell_type": "code",
   "metadata": {
    "deletable": false,
    "execution": {
     "iopub.execute_input": "2024-09-12T11:18:49.429774Z",
     "iopub.status.busy": "2024-09-12T11:18:49.428834Z",
     "iopub.status.idle": "2024-09-12T11:18:49.442797Z",
     "shell.execute_reply": "2024-09-12T11:18:49.440471Z"
    },
    "nbgrader": {
     "cell_type": "code",
     "checksum": "09fc51e3107fee3e18d6d88686d4aa26",
     "grade": false,
     "grade_id": "cell-3cf1ad4080c4879a",
     "locked": false,
     "schema_version": 3,
     "solution": true,
     "task": false
    },
    "ExecuteTime": {
     "end_time": "2024-09-19T13:25:26.111557Z",
     "start_time": "2024-09-19T13:25:26.098350Z"
    }
   },
   "source": [
    "def finn_samlet_rente(gjeld, rentesats, terminbelop):\n",
    "    samlet_rente = 0\n",
    "    while gjeld > 0:\n",
    "        rente = gjeld * (rentesats / 100)\n",
    "        samlet_rente += rente\n",
    "        gjeld = registrer_innbetaling(gjeld, rentesats, terminbelop)\n",
    "    return samlet_rente\n",
    "\n",
    "# Skriv funksjonskall for å sjekke funksjonen nedenfor:\n",
    "print(f\"{finn_samlet_rente(1000, 5, 400) = }\")"
   ],
   "outputs": [
    {
     "name": "stdout",
     "output_type": "stream",
     "text": [
      "finn_samlet_rente(1000, 5, 400) = 96.625\n"
     ]
    }
   ],
   "execution_count": 8
  },
  {
   "cell_type": "markdown",
   "metadata": {
    "deletable": false
   },
   "source": [
    "Tips: du kan bruke et funksjonskall med parametrene fra eksempelet i starten av oppgaven til å sjekke om funksjonen din fungerer slik den skal. Eksempel:\n",
    "```Python\n",
    "print(f\"{finn_samlet_rente(1000, 5, 400) = }\")\n",
    "```\n",
    "Skal gi følgende utskrift:<br>\n",
    "`finn_samlet_rente(1000, 5, 400) = 96.625`"
   ]
  },
  {
   "cell_type": "code",
   "execution_count": null,
   "metadata": {
    "autofeedback": {
     "test_code": "ZnJvbSBhdXRvZmVlZGJhY2sgaW1wb3J0IEZ1bmN0aW9uVGVzdHMKZnJvbSByYW5kb20gaW1wb3J0IHNhbXBsZQoKZGVmIGZpbm5fc2FtbGV0X3JlbnRlX3NvbHV0aW9uKGdqZWxkLCByZW50ZXNhdHMsIHRlcm1pbmJlbG9wKToKICAgIHNhbWxldF9yZW50ZSA9IDAKICAgIHdoaWxlIGdqZWxkID4gMDoKICAgICAgICByZW50ZSA9IGdqZWxkICogcmVudGVzYXRzLzEwMAogICAgICAgIHRlcm1pbmJlbG9wID0gbWluKHRlcm1pbmJlbG9wLCBnamVsZCtyZW50ZSkKICAgICAgICBnamVsZCArPSByZW50ZSAtIHRlcm1pbmJlbG9wCiAgICAgICAgc2FtbGV0X3JlbnRlICs9IHJlbnRlCiAgICByZXR1cm4gc2FtbGV0X3JlbnRlCgpncmFkaW5nX3Jlc3VsdHMgPSBGdW5jdGlvblRlc3RzKGZpbm5fc2FtbGV0X3JlbnRlX3NvbHV0aW9uKQp0cnk6CiAgICBncmFkaW5nX3Jlc3VsdHMuYWRkX3Rlc3RfZnVuYyhmaW5uX3NhbWxldF9yZW50ZSkKZXhjZXB0IEV4Y2VwdGlvbiBhcyBlOgogICAgZ3JhZGluZ19yZXN1bHRzLmxvZy5hcHBlbmQoIkNvdWxkIG5vdCBydW4gdGVzdHMsICIrZS5hcmdzWzBdKQplbHNlOgogICAgTiA9IDMKICAgIGdqZWxkX3ZhbHMgPSBzYW1wbGUobGlzdChyYW5nZSgxMF8wMDAsIDIwXzAwMCwgMV8wMDApKSwgTikKICAgIHJlbnRlX3ZhbHMgPSBzYW1wbGUoW3gvNCBmb3IgeCBpbiByYW5nZSgxLCAyMCldLCBOKQogICAgdGVybWluYmVsb3BfdmFscyA9IHNhbXBsZShsaXN0KHJhbmdlKDEwMDAsIDIwMDAsIDEwMCkpLCBOKQoKICAgIGZvciBnamVsZCwgcmVudGUsIHRlcm1pbmJlbG9wIGluIHppcChnamVsZF92YWxzLCByZW50ZV92YWxzLCB0ZXJtaW5iZWxvcF92YWxzKToKICAgICAgICBncmFkaW5nX3Jlc3VsdHMudGVzdF9yZXR1cm5fdmFsdWUoZ2plbGQsIHJlbnRlLCB0ZXJtaW5iZWxvcCkKCnJvdW5kKGdyYWRpbmdfcmVzdWx0cy5nZXRfcmVzdWx0cygpKjMsIDMp"
    },
    "deletable": false,
    "editable": false,
    "execution": {
     "iopub.execute_input": "2024-09-12T11:18:49.449380Z",
     "iopub.status.busy": "2024-09-12T11:18:49.448484Z",
     "iopub.status.idle": "2024-09-12T11:18:49.485750Z",
     "shell.execute_reply": "2024-09-12T11:18:49.483748Z"
    },
    "nbgrader": {
     "cell_type": "code",
     "checksum": "fc3bd1f8620a8ae7db7191e371484bc6",
     "grade": true,
     "grade_id": "cell-6538840f4902cc79",
     "locked": true,
     "points": 3,
     "schema_version": 3,
     "solution": false,
     "task": false
    }
   },
   "outputs": [],
   "source": [
    "# Denne cellen brukes under retting. La stå!"
   ]
  },
  {
   "cell_type": "markdown",
   "metadata": {
    "deletable": false,
    "editable": false
   },
   "source": [
    "<br>\n",
    "<nav class=\"navbar navbar-default\">\n",
    "        <div class=\"container-fluid\">\n",
    "            <div class=\"navbar-header\" style=\"float: left\">\n",
    "                <a class=\"navbar-brand\" href=\"2_terningkast.ipynb\" target=\"_self\">&lt; Forrige side: <i>simulering av terningkast</i></a>\n",
    "                </div>\n",
    "            <div class=\"navbar-header\" style=\"float: right\">\n",
    "                <a class=\"navbar-brand\" href=\"4_betingede_funksjoner_arrays.ipynb\" target=\"_self\">Neste side: <i>elementvise operasjoner med løkker</i> &gt;</a>\n",
    "            </div>\n",
    "        </div>\n",
    "</nav>"
   ]
  }
 ],
 "metadata": {
  "kernelspec": {
   "display_name": "Python 3 (ipykernel)",
   "language": "python",
   "name": "python3"
  },
  "language_info": {
   "codemirror_mode": {
    "name": "ipython",
    "version": 3
   },
   "file_extension": ".py",
   "mimetype": "text/x-python",
   "name": "python",
   "nbconvert_exporter": "python",
   "pygments_lexer": "ipython3",
   "version": "3.11.6"
  },
  "varInspector": {
   "cols": {
    "lenName": 16,
    "lenType": 16,
    "lenVar": 40
   },
   "kernels_config": {
    "python": {
     "delete_cmd_postfix": "",
     "delete_cmd_prefix": "del ",
     "library": "var_list.py",
     "varRefreshCmd": "print(var_dic_list())"
    },
    "r": {
     "delete_cmd_postfix": ") ",
     "delete_cmd_prefix": "rm(",
     "library": "var_list.r",
     "varRefreshCmd": "cat(var_dic_list()) "
    }
   },
   "types_to_exclude": [
    "module",
    "function",
    "builtin_function_or_method",
    "instance",
    "_Feature"
   ],
   "window_display": false
  }
 },
 "nbformat": 4,
 "nbformat_minor": 4
}
