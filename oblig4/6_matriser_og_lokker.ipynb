{
 "cells": [
  {
   "cell_type": "markdown",
   "metadata": {
    "deletable": false,
    "editable": false
   },
   "source": [
    "\n",
    "<nav class=\"navbar navbar-default\">\n",
    "  <div class=\"container-fluid\">\n",
    "    <div class=\"navbar-header\" style=\"float: left\">\n",
    "        <a class=\"navbar-brand\" href=\"0_Forside.ipynb\" target=\"_self\"> <h2> &uarr; Tilbake til forsiden</h2></a>\n",
    "    </div>\n",
    "  </div>\n",
    "</nav>"
   ]
  },
  {
   "cell_type": "markdown",
   "metadata": {
    "deletable": false
   },
   "source": [
    "# Matriser og nøstede for-løkker\n",
    "\n",
    "#### Læringsmål:\n",
    "* Nøstede for-løkker\n",
    "* Bearbeiding av matriser med løkker"
   ]
  },
  {
   "cell_type": "code",
   "metadata": {
    "deletable": false,
    "execution": {
     "iopub.execute_input": "2024-09-12T11:19:04.285980Z",
     "iopub.status.busy": "2024-09-12T11:19:04.285134Z",
     "iopub.status.idle": "2024-09-12T11:19:04.860670Z",
     "shell.execute_reply": "2024-09-12T11:19:04.858844Z"
    },
    "ExecuteTime": {
     "end_time": "2024-09-19T14:26:40.590469Z",
     "start_time": "2024-09-19T14:26:39.702514Z"
    }
   },
   "source": [
    "import numpy as np\n",
    "import matplotlib.pyplot as plt"
   ],
   "outputs": [],
   "execution_count": 1
  },
  {
   "cell_type": "markdown",
   "metadata": {
    "deletable": false
   },
   "source": [
    "## Mer om matriser\n",
    "Som kjent kan vi ved hjelp av numpy lage matriser, eller 2D-arrays, som lar oss representere flere verdier. Vi kan enten lage dette fra lister. På samme måte som vi kan skrive"
   ]
  },
  {
   "cell_type": "code",
   "metadata": {
    "deletable": false,
    "execution": {
     "iopub.execute_input": "2024-09-12T11:19:04.868930Z",
     "iopub.status.busy": "2024-09-12T11:19:04.868535Z",
     "iopub.status.idle": "2024-09-12T11:19:04.878709Z",
     "shell.execute_reply": "2024-09-12T11:19:04.877558Z"
    },
    "ExecuteTime": {
     "end_time": "2024-09-19T14:26:40.612630Z",
     "start_time": "2024-09-19T14:26:40.599745Z"
    }
   },
   "source": [
    "a = np.array([1, 2, 3])\n",
    "a"
   ],
   "outputs": [
    {
     "data": {
      "text/plain": [
       "array([1, 2, 3])"
      ]
     },
     "execution_count": 2,
     "metadata": {},
     "output_type": "execute_result"
    }
   ],
   "execution_count": 2
  },
  {
   "cell_type": "markdown",
   "metadata": {
    "deletable": false
   },
   "source": [
    "kan vi skrive følgende, med lister-i-lister"
   ]
  },
  {
   "cell_type": "code",
   "metadata": {
    "deletable": false,
    "execution": {
     "iopub.execute_input": "2024-09-12T11:19:04.883375Z",
     "iopub.status.busy": "2024-09-12T11:19:04.883156Z",
     "iopub.status.idle": "2024-09-12T11:19:04.891328Z",
     "shell.execute_reply": "2024-09-12T11:19:04.889523Z"
    },
    "ExecuteTime": {
     "end_time": "2024-09-19T14:26:42.687583Z",
     "start_time": "2024-09-19T14:26:42.674878Z"
    }
   },
   "source": [
    "A = np.array([[1, 2, 3], [4, 5, 6]])\n",
    "A"
   ],
   "outputs": [
    {
     "data": {
      "text/plain": [
       "array([[1, 2, 3],\n",
       "       [4, 5, 6]])"
      ]
     },
     "execution_count": 3,
     "metadata": {},
     "output_type": "execute_result"
    }
   ],
   "execution_count": 3
  },
  {
   "cell_type": "markdown",
   "metadata": {
    "deletable": false
   },
   "source": [
    "Da får vi en $2 \\times 3$ matrise. \n",
    "\n",
    "Vi kan også bruke funksjoner som [`zeros`](https://numpy.org/doc/stable/reference/generated/numpy.zeros.html) og [`ones`](https://numpy.org/doc/stable/reference/generated/numpy.ones.html) til å lage lage en tom matrise. På samme måte som vi kan skrive følgende for å lage en én-dimensjonal array:"
   ]
  },
  {
   "cell_type": "code",
   "metadata": {
    "deletable": false,
    "execution": {
     "iopub.execute_input": "2024-09-12T11:19:04.929662Z",
     "iopub.status.busy": "2024-09-12T11:19:04.928800Z",
     "iopub.status.idle": "2024-09-12T11:19:04.945671Z",
     "shell.execute_reply": "2024-09-12T11:19:04.943084Z"
    },
    "ExecuteTime": {
     "end_time": "2024-09-19T14:26:58.654641Z",
     "start_time": "2024-09-19T14:26:58.643388Z"
    }
   },
   "source": [
    "b = np.zeros(3)\n",
    "b"
   ],
   "outputs": [
    {
     "data": {
      "text/plain": [
       "array([0., 0., 0.])"
      ]
     },
     "execution_count": 4,
     "metadata": {},
     "output_type": "execute_result"
    }
   ],
   "execution_count": 4
  },
  {
   "cell_type": "markdown",
   "metadata": {
    "deletable": false
   },
   "source": [
    "...kan vi angi en liste med størrelser i 2 dimensjoner:"
   ]
  },
  {
   "cell_type": "code",
   "metadata": {
    "deletable": false,
    "execution": {
     "iopub.execute_input": "2024-09-12T11:19:04.955909Z",
     "iopub.status.busy": "2024-09-12T11:19:04.954895Z",
     "iopub.status.idle": "2024-09-12T11:19:04.972882Z",
     "shell.execute_reply": "2024-09-12T11:19:04.970064Z"
    },
    "ExecuteTime": {
     "end_time": "2024-09-19T14:27:01.404560Z",
     "start_time": "2024-09-19T14:27:01.395093Z"
    }
   },
   "source": [
    "B = np.zeros([2, 3])  # Matrise med 2 rader og 3 kolonner\n",
    "B"
   ],
   "outputs": [
    {
     "data": {
      "text/plain": [
       "array([[0., 0., 0.],\n",
       "       [0., 0., 0.]])"
      ]
     },
     "execution_count": 5,
     "metadata": {},
     "output_type": "execute_result"
    }
   ],
   "execution_count": 5
  },
  {
   "cell_type": "markdown",
   "metadata": {
    "deletable": false
   },
   "source": [
    "Som vi ser er matrisen $\\boldsymbol{B}$ også en $2\\times3$ matrise, akkurat som $\\boldsymbol{A}$, men inneholder kun verdien $0$.\n",
    "\n",
    "## Iterering gjennom matriser\n",
    "\n",
    "Når man arbeider med matriser, så er ofte for-løkker essensielle for å få gjort det vi vil. Når vi skal gjøre dette, så kan numpy-funksjonen [`shape`](https://numpy.org/doc/stable/reference/generated/numpy.shape.html) komme veldig godt med. Denne kan fortelle hvor mange rader og kolonner en matrise har.\n",
    "\n",
    "Nedenfor ser vi en eksempelfunksjon som regner ut absoluttverdien til tallene i en matrise:"
   ]
  },
  {
   "cell_type": "code",
   "metadata": {
    "deletable": false,
    "execution": {
     "iopub.execute_input": "2024-09-12T11:19:04.981809Z",
     "iopub.status.busy": "2024-09-12T11:19:04.981131Z",
     "iopub.status.idle": "2024-09-12T11:19:05.037855Z",
     "shell.execute_reply": "2024-09-12T11:19:05.034991Z"
    },
    "ExecuteTime": {
     "end_time": "2024-09-19T14:27:05.870339Z",
     "start_time": "2024-09-19T14:27:05.856684Z"
    }
   },
   "source": [
    "def abs_matrix(A):\n",
    "    rows, cols = np.shape(A)  # Finner dimensjonene til matrisen A\n",
    "    A_abs = np.zeros([rows, cols])  # Lager en ny matrise med samme dimensjoner som A\n",
    "\n",
    "    for i in range(rows):  # For hver rad 'i'\n",
    "        for j in range(cols):  # For hver kolonne 'j'\n",
    "            # Skriv inn absoluttverdien til A[i,j] i den nye matrisen A_abs[i, j]\n",
    "            if A[i,j] < 0:\n",
    "                A_abs[i, j] = -A[i, j]\n",
    "            else:\n",
    "                A_abs[i, j] = A[i, j]\n",
    "\n",
    "    return A_abs\n",
    "\n",
    "test_matrix = np.array([[-1, -2, -3],  # Lag en 2x3 matrise\n",
    "                        [4, 5, 6]])\n",
    "abs_matrix(test_matrix)"
   ],
   "outputs": [
    {
     "data": {
      "text/plain": [
       "array([[1., 2., 3.],\n",
       "       [4., 5., 6.]])"
      ]
     },
     "execution_count": 6,
     "metadata": {},
     "output_type": "execute_result"
    }
   ],
   "execution_count": 6
  },
  {
   "cell_type": "markdown",
   "metadata": {
    "deletable": false
   },
   "source": [
    "Tankegangen bak funksjonen `abs_matrix` kan beskrives som følger:\n",
    "1. Finn antall rader og kolonner i matrisen med `shape`\n",
    "2. Lag en ny \"tom\" matrise `A_abs` med bare nuller. Målet er at denne skal fylles med de riktige tallene etter hvert\n",
    "3. Lag en for-løkke som itererer gjennom gyldige rad-indekser `i`: $0 \\leq i < 2$\n",
    "4. Lag en ny for-løkke *inni* den første for-løkka som itererer gjennom gyldige kolonne-indekser $j$. Denne for-løkken vil gjentas for hver radi i matrisen.\n",
    "5. Nøstet inni begge for-løkkene bruker vi en if-setning til å fylle inn de riktige tallene $|a_{ij}|$ i den nye matrisen `A_abs`.\n",
    "\n"
   ]
  },
  {
   "cell_type": "markdown",
   "metadata": {
    "deletable": false
   },
   "source": [
    "## a)\n",
    "\n",
    "Skriv ferdig funksjonen `get_diagonal` som tar inn en matrise `A`, og returnerer en ny matrise `A_diag` der det *kun* er diagonalelementene fra `A` som er med (resten av matriseelementene er lik `0`). \n",
    "\n",
    "For eksempel, dersom input til funksjonen er matrisen $\\boldsymbol{A}$ nedenfor, så skal output være matrisen $\\boldsymbol{D}$.\n",
    "$$ \\boldsymbol{A} = \\begin{bmatrix}\n",
    "    -3 & -2 & -1 \\\\\n",
    "    1  & 2  & 3 \\\\\n",
    "    7 & 8 & 9\n",
    "\\end{bmatrix}  \\;\\; \\rightarrow \\;\\; \\boldsymbol{D} = \\begin{bmatrix}\n",
    "    -3 & 0 & 0 \\\\\n",
    "    0 & 2 & 0 \\\\\n",
    "    0 & 0 & 9\n",
    "\\end{bmatrix} $$\n",
    "\n",
    "*Hint: et matriseelement ligger langs diagonalen dersom $i = j$*"
   ]
  },
  {
   "cell_type": "code",
   "metadata": {
    "deletable": false,
    "execution": {
     "iopub.execute_input": "2024-09-12T11:19:05.048179Z",
     "iopub.status.busy": "2024-09-12T11:19:05.047382Z",
     "iopub.status.idle": "2024-09-12T11:19:05.071041Z",
     "shell.execute_reply": "2024-09-12T11:19:05.068823Z"
    },
    "nbgrader": {
     "cell_type": "code",
     "checksum": "dc5ae2ec48aa6e3650128de390c370ca",
     "grade": false,
     "grade_id": "cell-73b7f5ab8d23a0b5",
     "locked": false,
     "schema_version": 3,
     "solution": true,
     "task": false
    },
    "ExecuteTime": {
     "end_time": "2024-09-19T14:28:55.197373Z",
     "start_time": "2024-09-19T14:28:55.185388Z"
    }
   },
   "source": [
    "def get_diagonal(A):\n",
    "    height, width = np.shape(A)\n",
    "    A_diag = np.zeros([height, width])\n",
    "    for i in range(height):\n",
    "        for j in range(width):\n",
    "            A_diag[i, j] = A[i, j] if i == j else 0\n",
    "    return A_diag\n",
    "\n",
    "# Her er foreslått testkode for å teste matteeksempelet over:\n",
    "A = np.array([[-3, -2, -1], \n",
    "              [1,  2,  3],\n",
    "              [7,  8,  9]])\n",
    "get_diagonal(A)"
   ],
   "outputs": [
    {
     "data": {
      "text/plain": [
       "array([[-3.,  0.,  0.],\n",
       "       [ 0.,  2.,  0.],\n",
       "       [ 0.,  0.,  9.]])"
      ]
     },
     "execution_count": 7,
     "metadata": {},
     "output_type": "execute_result"
    }
   ],
   "execution_count": 7
  },
  {
   "cell_type": "code",
   "metadata": {
    "autofeedback": {
     "test_code": "ZnJvbSBhdXRvZmVlZGJhY2sgaW1wb3J0IEZ1bmN0aW9uVGVzdHMKaW1wb3J0IG51bXB5IGFzIG5wCmZyb20gcmFuZG9tIGltcG9ydCBzYW1wbGUKCmRlZiBnZXRfZGlhZ29uYWxfc29sdXRpb24oQSk6CiAgICByb3dzLCBjb2xzID0gbnAuc2hhcGUoQSkgICMgRmlubiBhbnRhbGwgcmFkZXIgb2cga29sb25uZXIKICAgIEFfZGlhZyA9IG5wLnplcm9zKFtyb3dzLCBjb2xzXSkgICMgQmVneW5uIG1lZCDDpSBsYWdlIGVuIG1hdHJpc2UgbWVkIDAgb3ZlcmFsdAoKICAgIGZvciBpIGluIHJhbmdlKHJvd3MpOgogICAgICAgIGZvciBqIGluIHJhbmdlKGNvbHMpOgogICAgICAgICAgICBpZiBpPT1qOgogICAgICAgICAgICAgICAgQV9kaWFnW2ksIGpdID0gQVtpLCBqXQogICAgcmV0dXJuIEFfZGlhZwoKCmdyYWRpbmdfcmVzdWx0cyA9IEZ1bmN0aW9uVGVzdHMoZ2V0X2RpYWdvbmFsX3NvbHV0aW9uKQp0cnk6CiAgICBncmFkaW5nX3Jlc3VsdHMuYWRkX3Rlc3RfZnVuYyhnZXRfZGlhZ29uYWwpCmV4Y2VwdCBFeGNlcHRpb24gYXMgZToKICAgIGdyYWRpbmdfcmVzdWx0cy5sb2cuYXBwZW5kKCJDb3VsZCBub3QgcnVuIHRlc3RzLCAiK2UuYXJnc1swXSkKZWxzZToKICAgIE4gPSAyCiAgICBzaXplcyA9IHNhbXBsZShsaXN0KHJhbmdlKDIsIDYpKSwgTikKICAgIHByaW50KHNpemVzKQogICAgZm9yIHNpemUgaW4gc2l6ZXM6CiAgICAgICAgQV90ZXN0ID0gbnAucmFuZG9tLnJhbmRpbnQoLTksIDEwLCAoc2l6ZSwgc2l6ZSkpCiAgICAgICAgZ3JhZGluZ19yZXN1bHRzLnRlc3RfcmV0dXJuX3ZhbHVlKEFfdGVzdCkKCnJvdW5kKGdyYWRpbmdfcmVzdWx0cy5nZXRfcmVzdWx0cygpKjUsIDIp"
    },
    "deletable": false,
    "editable": false,
    "execution": {
     "iopub.execute_input": "2024-09-12T11:19:05.080020Z",
     "iopub.status.busy": "2024-09-12T11:19:05.079406Z",
     "iopub.status.idle": "2024-09-12T11:19:06.243949Z",
     "shell.execute_reply": "2024-09-12T11:19:06.243068Z"
    },
    "nbgrader": {
     "cell_type": "code",
     "checksum": "91780857cf2ef9e2d82df5a03dc1902d",
     "grade": true,
     "grade_id": "cell-e4c1a894cb01892b",
     "locked": true,
     "points": 5,
     "schema_version": 3,
     "solution": false,
     "task": false
    },
    "ExecuteTime": {
     "end_time": "2024-09-19T14:29:09.778343Z",
     "start_time": "2024-09-19T14:29:09.771922Z"
    }
   },
   "source": [
    "# Denne cellen brukes under retting. La stå!"
   ],
   "outputs": [],
   "execution_count": 8
  },
  {
   "cell_type": "markdown",
   "metadata": {
    "deletable": false
   },
   "source": [
    "## b) \n",
    "\n",
    "Skriv ferdig funksjonen `get_upper` som tar inn en matrise`A`, og returnerer en ny matrise `A_upper` der det *kun* er matriseelementene fra `A` som ligger ovenfor diagonalen som er med (resten av matriseelementene er lik `0`).\n",
    "\n",
    "For eksempel, dersom input til funksjonen er matrisen $\\boldsymbol{A}$ nedenfor, så skal output være matrisen $\\boldsymbol{U}$.\n",
    "$$ \\boldsymbol{A} = \\begin{bmatrix}\n",
    "    -3 & -2 & -1 \\\\\n",
    "    1  & 2  & 3 \\\\\n",
    "    7 & 8 & 9\n",
    "\\end{bmatrix}  \\;\\; \\rightarrow \\;\\; \\boldsymbol{U} = \\begin{bmatrix}\n",
    "    0 & -2 & -1 \\\\\n",
    "    0 & 0 & 3 \\\\\n",
    "    0 & 0 & 0\n",
    "\\end{bmatrix} $$\n",
    "\n",
    "Dere har fått litt starhjelp for å få til programmet. Output-matrisen `D` er allerede deklarert, og er en matrise med samme dimensjoner som `A`, men fyllt med bare tallet `0`. Det som gjenstår er å fylle inn de riktige tallene langs diagonalen.<br>\n",
    "*Hint: hvilken betingelse avgjør om et element ligger ovenfor diagonalen?*"
   ]
  },
  {
   "cell_type": "code",
   "metadata": {
    "deletable": false,
    "execution": {
     "iopub.execute_input": "2024-09-12T11:19:06.255380Z",
     "iopub.status.busy": "2024-09-12T11:19:06.254946Z",
     "iopub.status.idle": "2024-09-12T11:19:06.265015Z",
     "shell.execute_reply": "2024-09-12T11:19:06.263904Z"
    },
    "nbgrader": {
     "cell_type": "code",
     "checksum": "da2fbbdf6bf3209d1d778f0493c007dc",
     "grade": false,
     "grade_id": "cell-fc1cc1d8fe295aed",
     "locked": false,
     "schema_version": 3,
     "solution": true,
     "task": false
    },
    "ExecuteTime": {
     "end_time": "2024-09-19T14:29:35.002236Z",
     "start_time": "2024-09-19T14:29:34.988548Z"
    }
   },
   "source": [
    "def get_upper(A):\n",
    "    height, width = np.shape(A)\n",
    "    A_upper = np.zeros([height, width])\n",
    "    for i in range(height):\n",
    "        for j in range(width):\n",
    "            A_upper[i, j] = A[i, j] if i < j else 0\n",
    "    return A_upper\n",
    "\n",
    "\n",
    "# Her er foreslått testkode for å teste matteeksempelet over:\n",
    "A = np.array([[-3, -2, -1],\n",
    "              [1,  2,  3],\n",
    "              [7,  8,  9]])\n",
    "get_upper(A)"
   ],
   "outputs": [
    {
     "data": {
      "text/plain": [
       "array([[ 0., -2., -1.],\n",
       "       [ 0.,  0.,  3.],\n",
       "       [ 0.,  0.,  0.]])"
      ]
     },
     "execution_count": 10,
     "metadata": {},
     "output_type": "execute_result"
    }
   ],
   "execution_count": 10
  },
  {
   "cell_type": "code",
   "execution_count": null,
   "metadata": {
    "autofeedback": {
     "test_code": "ZnJvbSBhdXRvZmVlZGJhY2sgaW1wb3J0IEZ1bmN0aW9uVGVzdHMKaW1wb3J0IG51bXB5IGFzIG5wCmZyb20gcmFuZG9tIGltcG9ydCBzYW1wbGUKCmRlZiBnZXRfdXBwZXJfc29sdXRpb24oQSk6CiAgICByb3dzLCBjb2xzID0gbnAuc2hhcGUoQSkKICAgIEFfdXBwZXIgPSBucC56ZXJvcyhbcm93cywgY29sc10pCgogICAgZm9yIGkgaW4gcmFuZ2Uocm93cyk6CiAgICAgICAgZm9yIGogaW4gcmFuZ2UoY29scyk6CiAgICAgICAgICAgIGlmIGogPiBpOgogICAgICAgICAgICAgICAgQV91cHBlcltpLCBqXSA9IEFbaSwgal0KICAgIHJldHVybiBBX3VwcGVyCgoKZ3JhZGluZ19yZXN1bHRzID0gRnVuY3Rpb25UZXN0cyhnZXRfdXBwZXJfc29sdXRpb24pCnRyeToKICAgIGdyYWRpbmdfcmVzdWx0cy5hZGRfdGVzdF9mdW5jKGdldF91cHBlcikKZXhjZXB0IEV4Y2VwdGlvbiBhcyBlOgogICAgZ3JhZGluZ19yZXN1bHRzLmxvZy5hcHBlbmQoIkNvdWxkIG5vdCBydW4gdGVzdHMsICIrZS5hcmdzWzBdKQplbHNlOgogICAgTiA9IDIKICAgIHNpemVzID0gc2FtcGxlKGxpc3QocmFuZ2UoMiwgNikpLCBOKQogICAgZm9yIHNpemUgaW4gc2l6ZXM6CiAgICAgICAgQV90ZXN0ID0gbnAucmFuZG9tLnJhbmRpbnQoLTksIDEwLCAoc2l6ZSwgc2l6ZSkpCiAgICAgICAgZ3JhZGluZ19yZXN1bHRzLnRlc3RfcmV0dXJuX3ZhbHVlKEFfdGVzdCkKCnJvdW5kKGdyYWRpbmdfcmVzdWx0cy5nZXRfcmVzdWx0cygpKjUsIDIp"
    },
    "deletable": false,
    "editable": false,
    "execution": {
     "iopub.execute_input": "2024-09-12T11:19:06.273204Z",
     "iopub.status.busy": "2024-09-12T11:19:06.272845Z",
     "iopub.status.idle": "2024-09-12T11:19:06.292505Z",
     "shell.execute_reply": "2024-09-12T11:19:06.291019Z"
    },
    "nbgrader": {
     "cell_type": "code",
     "checksum": "4ff30ec5e59ed4cfe3c767bb858e4283",
     "grade": true,
     "grade_id": "cell-39281b2162df62cd",
     "locked": true,
     "points": 5,
     "schema_version": 3,
     "solution": false,
     "task": false
    }
   },
   "outputs": [],
   "source": [
    "# Denne cellen brukes under retting. La stå!"
   ]
  },
  {
   "cell_type": "markdown",
   "metadata": {
    "deletable": false,
    "editable": false
   },
   "source": [
    "<br>\n",
    "<nav class=\"navbar navbar-default\">\n",
    "        <div class=\"container-fluid\">\n",
    "            <div class=\"navbar-header\" style=\"float: left\">\n",
    "                <a class=\"navbar-brand\" href=\"5_matriser_intro.ipynb\" target=\"_self\">&lt; Forrige side: <i>intro til matriser</i></a>\n",
    "                </div>\n",
    "            <div class=\"navbar-header\" style=\"float: right\">\n",
    "                <a class=\"navbar-brand\" href=\"7_regneoperasjoner_matriser.ipynb\" target=\"_self\">Neste side: <i>matriseoperasjoner med numpy</i> &gt;</a>\n",
    "            </div>\n",
    "        </div>\n",
    "</nav>"
   ]
  }
 ],
 "metadata": {
  "kernelspec": {
   "display_name": "Python 3 (ipykernel)",
   "language": "python",
   "name": "python3"
  },
  "language_info": {
   "codemirror_mode": {
    "name": "ipython",
    "version": 3
   },
   "file_extension": ".py",
   "mimetype": "text/x-python",
   "name": "python",
   "nbconvert_exporter": "python",
   "pygments_lexer": "ipython3",
   "version": "3.11.6"
  }
 },
 "nbformat": 4,
 "nbformat_minor": 4
}
